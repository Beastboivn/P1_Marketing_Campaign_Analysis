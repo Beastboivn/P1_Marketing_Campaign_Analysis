{
 "cells": [
  {
   "cell_type": "markdown",
   "id": "8a743269-4e21-49e8-88d6-2e1ccb8dac14",
   "metadata": {},
   "source": [
    "# IMPORT LIBRARIES"
   ]
  },
  {
   "cell_type": "code",
   "execution_count": 3,
   "id": "514ad344-4af3-43af-a6ed-cc22f999012f",
   "metadata": {},
   "outputs": [],
   "source": [
    "import pandas as pd"
   ]
  },
  {
   "cell_type": "markdown",
   "id": "bf73a284-3c6f-45dc-89be-3770725073c1",
   "metadata": {},
   "source": [
    "# IMPORT DATA"
   ]
  },
  {
   "cell_type": "code",
   "execution_count": 6,
   "id": "cbfca73e-541f-4e99-a777-7a36298662b7",
   "metadata": {},
   "outputs": [],
   "source": [
    "df = pd.read_csv(\"raw data.csv\")"
   ]
  },
  {
   "cell_type": "code",
   "execution_count": 8,
   "id": "1952f1e4-baf0-460c-b9b0-75c6c3b8468f",
   "metadata": {},
   "outputs": [
    {
     "data": {
      "text/html": [
       "<div>\n",
       "<style scoped>\n",
       "    .dataframe tbody tr th:only-of-type {\n",
       "        vertical-align: middle;\n",
       "    }\n",
       "\n",
       "    .dataframe tbody tr th {\n",
       "        vertical-align: top;\n",
       "    }\n",
       "\n",
       "    .dataframe thead th {\n",
       "        text-align: right;\n",
       "    }\n",
       "</style>\n",
       "<table border=\"1\" class=\"dataframe\">\n",
       "  <thead>\n",
       "    <tr style=\"text-align: right;\">\n",
       "      <th></th>\n",
       "      <th>Campaign_ID</th>\n",
       "      <th>Target_Audience</th>\n",
       "      <th>Campaign_Goal</th>\n",
       "      <th>Duration</th>\n",
       "      <th>Channel_Used</th>\n",
       "      <th>Conversion_Rate</th>\n",
       "      <th>Spend</th>\n",
       "      <th>ROI</th>\n",
       "      <th>Location</th>\n",
       "      <th>Language</th>\n",
       "      <th>Clicks</th>\n",
       "      <th>Impressions</th>\n",
       "      <th>Customer_Segment</th>\n",
       "      <th>Date</th>\n",
       "      <th>Company</th>\n",
       "    </tr>\n",
       "  </thead>\n",
       "  <tbody>\n",
       "    <tr>\n",
       "      <th>0</th>\n",
       "      <td>578191</td>\n",
       "      <td>Women 25-34</td>\n",
       "      <td>Brand Awareness</td>\n",
       "      <td>30 Days</td>\n",
       "      <td>Twitter</td>\n",
       "      <td>0,12</td>\n",
       "      <td>6924,23</td>\n",
       "      <td>6,96</td>\n",
       "      <td>New York</td>\n",
       "      <td>French</td>\n",
       "      <td>17993</td>\n",
       "      <td>54817</td>\n",
       "      <td>Fashion</td>\n",
       "      <td>2022-12-31 00:00:00</td>\n",
       "      <td>Chic Couture</td>\n",
       "    </tr>\n",
       "    <tr>\n",
       "      <th>1</th>\n",
       "      <td>737574</td>\n",
       "      <td>Men 25-34</td>\n",
       "      <td>Increase Sales</td>\n",
       "      <td>30 Days</td>\n",
       "      <td>Twitter</td>\n",
       "      <td>0,13</td>\n",
       "      <td>5244,02</td>\n",
       "      <td>2,11</td>\n",
       "      <td>Las Vegas</td>\n",
       "      <td>French</td>\n",
       "      <td>13441</td>\n",
       "      <td>41332</td>\n",
       "      <td>Fashion</td>\n",
       "      <td>2022-03-16 00:00:00</td>\n",
       "      <td>Mode Maven</td>\n",
       "    </tr>\n",
       "    <tr>\n",
       "      <th>2</th>\n",
       "      <td>199313</td>\n",
       "      <td>Women 25-34</td>\n",
       "      <td>Brand Awareness</td>\n",
       "      <td>30 Days</td>\n",
       "      <td>Twitter</td>\n",
       "      <td>0,14</td>\n",
       "      <td>4998,43</td>\n",
       "      <td>4,68</td>\n",
       "      <td>Miami</td>\n",
       "      <td>English</td>\n",
       "      <td>12767</td>\n",
       "      <td>39336</td>\n",
       "      <td>Food</td>\n",
       "      <td>2022-06-07 00:00:00</td>\n",
       "      <td>Epicurean Edge</td>\n",
       "    </tr>\n",
       "    <tr>\n",
       "      <th>3</th>\n",
       "      <td>163358</td>\n",
       "      <td>Women 25-34</td>\n",
       "      <td>Market Expansion</td>\n",
       "      <td>30 Days</td>\n",
       "      <td>Instagram</td>\n",
       "      <td>0,13</td>\n",
       "      <td>6687,44</td>\n",
       "      <td>5,58</td>\n",
       "      <td>Las Vegas</td>\n",
       "      <td>English</td>\n",
       "      <td>17343</td>\n",
       "      <td>52889</td>\n",
       "      <td>Food</td>\n",
       "      <td>2022-10-04 00:00:00</td>\n",
       "      <td>Bistro Bliss</td>\n",
       "    </tr>\n",
       "    <tr>\n",
       "      <th>4</th>\n",
       "      <td>149567</td>\n",
       "      <td>Women 18-24</td>\n",
       "      <td>Market Expansion</td>\n",
       "      <td>60 Days</td>\n",
       "      <td>Instagram</td>\n",
       "      <td>0,13</td>\n",
       "      <td>14346,04</td>\n",
       "      <td>6,42</td>\n",
       "      <td>Las Vegas</td>\n",
       "      <td>English</td>\n",
       "      <td>37355</td>\n",
       "      <td>112167</td>\n",
       "      <td>Fashion</td>\n",
       "      <td>2022-11-05 00:00:00</td>\n",
       "      <td>Trend Tailors</td>\n",
       "    </tr>\n",
       "  </tbody>\n",
       "</table>\n",
       "</div>"
      ],
      "text/plain": [
       "   Campaign_ID Target_Audience     Campaign_Goal Duration Channel_Used  \\\n",
       "0       578191     Women 25-34   Brand Awareness  30 Days      Twitter   \n",
       "1       737574       Men 25-34    Increase Sales  30 Days      Twitter   \n",
       "2       199313     Women 25-34   Brand Awareness  30 Days      Twitter   \n",
       "3       163358     Women 25-34  Market Expansion  30 Days    Instagram   \n",
       "4       149567     Women 18-24  Market Expansion  60 Days    Instagram   \n",
       "\n",
       "  Conversion_Rate     Spend   ROI   Location Language  Clicks  Impressions  \\\n",
       "0            0,12   6924,23  6,96   New York   French   17993        54817   \n",
       "1            0,13   5244,02  2,11  Las Vegas   French   13441        41332   \n",
       "2            0,14   4998,43  4,68      Miami  English   12767        39336   \n",
       "3            0,13   6687,44  5,58  Las Vegas  English   17343        52889   \n",
       "4            0,13  14346,04  6,42  Las Vegas  English   37355       112167   \n",
       "\n",
       "  Customer_Segment                 Date         Company  \n",
       "0          Fashion  2022-12-31 00:00:00    Chic Couture  \n",
       "1          Fashion  2022-03-16 00:00:00      Mode Maven  \n",
       "2             Food  2022-06-07 00:00:00  Epicurean Edge  \n",
       "3             Food  2022-10-04 00:00:00    Bistro Bliss  \n",
       "4          Fashion  2022-11-05 00:00:00   Trend Tailors  "
      ]
     },
     "execution_count": 8,
     "metadata": {},
     "output_type": "execute_result"
    }
   ],
   "source": [
    "df.head()"
   ]
  },
  {
   "cell_type": "code",
   "execution_count": 10,
   "id": "b34c1808-6354-4d82-9512-819dc2a7b10e",
   "metadata": {},
   "outputs": [
    {
     "name": "stdout",
     "output_type": "stream",
     "text": [
      "<class 'pandas.core.frame.DataFrame'>\n",
      "RangeIndex: 8047 entries, 0 to 8046\n",
      "Data columns (total 15 columns):\n",
      " #   Column            Non-Null Count  Dtype \n",
      "---  ------            --------------  ----- \n",
      " 0   Campaign_ID       8047 non-null   int64 \n",
      " 1   Target_Audience   8047 non-null   object\n",
      " 2   Campaign_Goal     8047 non-null   object\n",
      " 3   Duration          8047 non-null   object\n",
      " 4   Channel_Used      8047 non-null   object\n",
      " 5   Conversion_Rate   8047 non-null   object\n",
      " 6   Spend             8047 non-null   object\n",
      " 7   ROI               8047 non-null   object\n",
      " 8   Location          8047 non-null   object\n",
      " 9   Language          8047 non-null   object\n",
      " 10  Clicks            8047 non-null   int64 \n",
      " 11  Impressions       8047 non-null   int64 \n",
      " 12  Customer_Segment  8047 non-null   object\n",
      " 13  Date              8047 non-null   object\n",
      " 14  Company           8047 non-null   object\n",
      "dtypes: int64(3), object(12)\n",
      "memory usage: 943.1+ KB\n"
     ]
    }
   ],
   "source": [
    "df.info()"
   ]
  },
  {
   "cell_type": "markdown",
   "id": "6dfa722b-3905-4c78-8ef3-74d10aa281e7",
   "metadata": {},
   "source": [
    "# ISSUES LOG"
   ]
  },
  {
   "cell_type": "code",
   "execution_count": 81,
   "id": "4de86741-5e81-4fa1-b48a-0e45d65e2ea3",
   "metadata": {},
   "outputs": [],
   "source": [
    "# Column \"Target_Audience\" can be divived into 2 columns: \"Gender\" & \"Age_Group\"\n",
    "# Column \"Duration\" only needs numbers without the string \" Days\"\n",
    "# Column \"Conversion_Rate\", \"Spend\" & \"ROI\" has the symbol \",\" which must be changed to \".\"\n",
    "# Column \"Date\" must be in DateTime data type"
   ]
  },
  {
   "cell_type": "markdown",
   "id": "84a8e7f9-40bd-473b-8e16-aaf607f5efa7",
   "metadata": {},
   "source": [
    "# DATA CLEANING"
   ]
  },
  {
   "cell_type": "code",
   "execution_count": 22,
   "id": "72d68a45-d87c-4027-a181-3e2c86a14eb4",
   "metadata": {},
   "outputs": [],
   "source": [
    "df[['Gender', 'Age_Group']] = df['Target_Audience'].str.split(expand = True)"
   ]
  },
  {
   "cell_type": "code",
   "execution_count": 26,
   "id": "6dcc978c-4589-4abd-8c18-baa813f09a40",
   "metadata": {},
   "outputs": [
    {
     "data": {
      "text/plain": [
       "array(['30 Days', '60 Days', '45 Days', '15 Days'], dtype=object)"
      ]
     },
     "execution_count": 26,
     "metadata": {},
     "output_type": "execute_result"
    }
   ],
   "source": [
    "df['Duration'].unique()"
   ]
  },
  {
   "cell_type": "code",
   "execution_count": 64,
   "id": "d4d15e88-3f62-4b66-980d-7ecd53e944d5",
   "metadata": {},
   "outputs": [],
   "source": [
    "df['Duration'] = df['Duration'].str[0:2].astype(int)"
   ]
  },
  {
   "cell_type": "code",
   "execution_count": 68,
   "id": "53ac21be-2020-422e-82f7-c38727adf1d6",
   "metadata": {},
   "outputs": [],
   "source": [
    "df['Conversion_Rate'] = df['Conversion_Rate'].str.replace(\",\", \".\").astype(float)\n",
    "df['Spend'] = df['Spend'].str.replace(\",\", \".\").astype(float)\n",
    "df['ROI'] = df['ROI'].str.replace(\",\", \".\").astype(float)"
   ]
  },
  {
   "cell_type": "code",
   "execution_count": 76,
   "id": "46f739fb-2a08-4893-b7d6-56519ddebbc9",
   "metadata": {},
   "outputs": [],
   "source": [
    "df['Date'] = pd.to_datetime(df['Date'])"
   ]
  },
  {
   "cell_type": "code",
   "execution_count": 78,
   "id": "273bedca-be24-4bba-ae79-00ffdd506af2",
   "metadata": {},
   "outputs": [
    {
     "name": "stdout",
     "output_type": "stream",
     "text": [
      "<class 'pandas.core.frame.DataFrame'>\n",
      "RangeIndex: 8047 entries, 0 to 8046\n",
      "Data columns (total 17 columns):\n",
      " #   Column            Non-Null Count  Dtype         \n",
      "---  ------            --------------  -----         \n",
      " 0   Campaign_ID       8047 non-null   int64         \n",
      " 1   Target_Audience   8047 non-null   object        \n",
      " 2   Campaign_Goal     8047 non-null   object        \n",
      " 3   Duration          8047 non-null   int32         \n",
      " 4   Channel_Used      8047 non-null   object        \n",
      " 5   Conversion_Rate   8047 non-null   float64       \n",
      " 6   Spend             8047 non-null   float64       \n",
      " 7   ROI               8047 non-null   float64       \n",
      " 8   Location          8047 non-null   object        \n",
      " 9   Language          8047 non-null   object        \n",
      " 10  Clicks            8047 non-null   int64         \n",
      " 11  Impressions       8047 non-null   int64         \n",
      " 12  Customer_Segment  8047 non-null   object        \n",
      " 13  Date              8047 non-null   datetime64[ns]\n",
      " 14  Company           8047 non-null   object        \n",
      " 15  Gender            8047 non-null   object        \n",
      " 16  Age_Group         8047 non-null   object        \n",
      "dtypes: datetime64[ns](1), float64(3), int32(1), int64(3), object(9)\n",
      "memory usage: 1.0+ MB\n"
     ]
    }
   ],
   "source": [
    "df.info()"
   ]
  },
  {
   "cell_type": "code",
   "execution_count": 90,
   "id": "f738a3c6-41aa-4cc2-a572-9fcfd17da773",
   "metadata": {},
   "outputs": [],
   "source": [
    "final_output = df.drop(columns = ['Target_Audience'])"
   ]
  },
  {
   "cell_type": "code",
   "execution_count": 94,
   "id": "44bf8337-5be5-4c2e-89c5-b890c303ddab",
   "metadata": {},
   "outputs": [],
   "source": [
    "final_output.to_csv(\"clean_data.csv\")"
   ]
  }
 ],
 "metadata": {
  "kernelspec": {
   "display_name": "Python 3 (ipykernel)",
   "language": "python",
   "name": "python3"
  },
  "language_info": {
   "codemirror_mode": {
    "name": "ipython",
    "version": 3
   },
   "file_extension": ".py",
   "mimetype": "text/x-python",
   "name": "python",
   "nbconvert_exporter": "python",
   "pygments_lexer": "ipython3",
   "version": "3.12.7"
  }
 },
 "nbformat": 4,
 "nbformat_minor": 5
}
